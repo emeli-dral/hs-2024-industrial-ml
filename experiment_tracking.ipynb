{
 "cells": [
  {
   "cell_type": "markdown",
   "id": "009f9c35",
   "metadata": {},
   "source": [
    "## NYC Taxi Data Experimnt Tracking"
   ]
  },
  {
   "cell_type": "code",
   "execution_count": null,
   "id": "b2bd82d7",
   "metadata": {},
   "outputs": [],
   "source": [
    "!python -V"
   ]
  },
  {
   "cell_type": "code",
   "execution_count": null,
   "id": "8b135c2b",
   "metadata": {},
   "outputs": [],
   "source": [
    "import requests\n",
    "import pickle\n",
    "\n",
    "import pandas as pd\n",
    "\n",
    "from sklearn.ensemble import RandomForestRegressor, GradientBoostingRegressor\n",
    "from sklearn.feature_extraction import DictVectorizer\n",
    "from sklearn.linear_model import LinearRegression\n",
    "from sklearn.linear_model import Lasso\n",
    "from sklearn.linear_model import Ridge\n",
    "from sklearn.metrics import mean_squared_error\n",
    "from sklearn.svm import LinearSVR\n",
    "\n",
    "from tqdm import tqdm"
   ]
  },
  {
   "cell_type": "code",
   "execution_count": null,
   "id": "c9c4eeb6-ffd3-4890-aef3-a7f7d8a27050",
   "metadata": {},
   "outputs": [],
   "source": [
    "!mkdir data"
   ]
  },
  {
   "cell_type": "code",
   "execution_count": null,
   "id": "ac51bff5",
   "metadata": {},
   "outputs": [],
   "source": [
    "files = [('green_tripdata_2022-02.parquet', './data'), ('green_tripdata_2022-01.parquet', './data')]\n",
    "\n",
    "print(\"Download files:\")\n",
    "for file, path in files:\n",
    "    url=f\"https://d37ci6vzurychx.cloudfront.net/trip-data/{file}\"\n",
    "    resp=requests.get(url, stream=True)\n",
    "    save_path=f\"{path}/{file}\"\n",
    "    with open(save_path, \"wb\") as handle:\n",
    "        for data in tqdm(resp.iter_content(),\n",
    "                        desc=f\"{file}\",\n",
    "                        postfix=f\"save to {save_path}\",\n",
    "                        total=int(resp.headers[\"Content-Length\"])):\n",
    "            handle.write(data)"
   ]
  },
  {
   "cell_type": "code",
   "execution_count": null,
   "id": "f0b3c9b1",
   "metadata": {},
   "outputs": [],
   "source": [
    "train_raw_data = pd.read_parquet('data/green_tripdata_2022-01.parquet')\n",
    "val_raw_data = pd.read_parquet('data/green_tripdata_2022-02.parquet')"
   ]
  },
  {
   "cell_type": "code",
   "execution_count": null,
   "id": "caa0c926",
   "metadata": {},
   "outputs": [],
   "source": [
    "train_raw_data.head()"
   ]
  },
  {
   "cell_type": "code",
   "execution_count": null,
   "id": "4e99c325",
   "metadata": {},
   "outputs": [],
   "source": [
    "train_raw_data.info()"
   ]
  },
  {
   "cell_type": "code",
   "execution_count": null,
   "id": "333bf518",
   "metadata": {},
   "outputs": [],
   "source": [
    "def process_dataframe(data):\n",
    "    data.lpep_dropoff_datetime = pd.to_datetime(data.lpep_dropoff_datetime)\n",
    "    data.lpep_pickup_datetime = pd.to_datetime(data.lpep_pickup_datetime)\n",
    "\n",
    "    data['duration'] = data.lpep_dropoff_datetime - data.lpep_pickup_datetime\n",
    "    data.duration = data.duration.apply(lambda td: td.total_seconds() / 60)\n",
    "    data = data[(data.duration >= 1) & (data.duration <= 60)]\n",
    "    \n",
    "    data['PULocationID'].astype(str, copy=False)\n",
    "    data['DOLocationID'].astype(str, copy=False)\n",
    "    \n",
    "    return data"
   ]
  },
  {
   "cell_type": "code",
   "execution_count": null,
   "id": "36d77ff3",
   "metadata": {},
   "outputs": [],
   "source": [
    "num_features = ['trip_distance', 'extra', 'fare_amount']\n",
    "cat_features = ['PULocationID', 'DOLocationID']"
   ]
  },
  {
   "cell_type": "code",
   "execution_count": null,
   "id": "2e84bb84",
   "metadata": {},
   "outputs": [],
   "source": [
    "X_train = process_dataframe(train_raw_data)[num_features + cat_features]\n",
    "X_val = process_dataframe(val_raw_data)[num_features + cat_features] \n",
    "\n",
    "y_train = process_dataframe(train_raw_data)['duration']\n",
    "y_val = process_dataframe(val_raw_data)['duration'] "
   ]
  },
  {
   "cell_type": "code",
   "execution_count": null,
   "id": "75c9826d",
   "metadata": {},
   "outputs": [],
   "source": [
    "X_val.isnull().sum()"
   ]
  }
 ],
 "metadata": {
  "interpreter": {
   "hash": "0848c9d6c7d415ad6c477ff7ff8e98694d1a4aa96d0deee89244642e6b630036"
  },
  "kernelspec": {
   "display_name": "Python 3 (ipykernel)",
   "language": "python",
   "name": "python3"
  },
  "language_info": {
   "codemirror_mode": {
    "name": "ipython",
    "version": 3
   },
   "file_extension": ".py",
   "mimetype": "text/x-python",
   "name": "python",
   "nbconvert_exporter": "python",
   "pygments_lexer": "ipython3",
   "version": "3.11.8"
  }
 },
 "nbformat": 4,
 "nbformat_minor": 5
}
